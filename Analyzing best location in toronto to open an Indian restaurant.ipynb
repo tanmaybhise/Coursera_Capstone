{
 "cells": [
  {
   "cell_type": "markdown",
   "metadata": {},
   "source": [
    "<h1>Analyzing best location in Toronto to open an Indian restaurant</h1>\n",
    "<p>IBM Data science professional certificate capstone project</p>\n",
    "<img src=\"https://hips.hearstapps.com/del.h-cdn.co/assets/17/30/2048x1365/gallery-1501020555-shot-4-190.jpg?resize=980:*\" width=\"100%\" height=\"auto\"></img>"
   ]
  },
  {
   "cell_type": "markdown",
   "metadata": {},
   "source": [
    "<h2>Business Problem</h2>\n",
    "<p>Toronto is the most populous and multicultural city in Canada, with more than 7.5 percent of the Canadian population residing there [1]. In a report by CIC news, Toronto is ranked third among new immigrants' preferred cities [2]. The Census of 2016 shows that most immigrants in Toronto are from India [3]. Therefore, This project hypothesize a client who wants to open an Indian restaurant in Toronto and aims to analyze a best possible location to do so. Target audient for this project is anyone who is planning to open an Indian restaurant in Toronto. <br><br> Overall, this project has following objectives:\n",
    "<li>Discover location of Indian restaurants in neighborhoods Toronto.</li>\n",
    "<li>Analyze best possible location in Toronto to open a new Indian restaurant.</li></p>"
   ]
  },
  {
   "cell_type": "markdown",
   "metadata": {},
   "source": [
    "<h2>Datasets</h2>\n",
    "<br>\n",
    "<p>\n",
    "    Following is the sources of data used for this project.\n",
    "    <br>\n",
    "    <li><a href=\"https://en.wikipedia.org/wiki/List_of_postal_codes_of_Canada:_M\">Wikipedia: Toronto neighborhood data</a></li>\n",
    "    <li>Coursera (IBM): Toronto geospatial data (Geospatial_Coordinates.csv)</li>\n",
    "    <li><a href=\"https://foursquare.com/\">Foursquare API: Indian Restaurants in Toronto</a></li>\n",
    "</p>"
   ]
  },
  {
   "cell_type": "markdown",
   "metadata": {},
   "source": [
    "<h3>References</h3>\n",
    "<p>\n",
    "1. <a href=\"https://en.wikipedia.org/wiki/List_of_the_largest_municipalities_in_Canada_by_population\">https://en.wikipedia.org/wiki/List_of_the_largest_municipalities_in_Canada_by_population</a><br>\n",
    "2. <a href=\"https://www.cicnews.com/2020/02/which-cities-in-canada-attract-the-most-immigrants-0213741.html#gs.6um8t1\">https://www.cicnews.com/2020/02/which-cities-in-canada-attract-the-most-immigrants-0213741.html#gs.6um8t1</a><br>\n",
    "3. <a href=\"https://www12.statcan.gc.ca/census-recensement/2016/as-sa/fogs-spg/Facts-cma-eng.cfm?LANG=Eng&GK=CMA&GC=535&TOPIC=7\">https://www12.statcan.gc.ca/census-recensement/2016/as-sa/fogs-spg/Facts-cma-eng.cfm?LANG=Eng&GK=CMA&GC=535&TOPIC=7</a><br>\n",
    "</p>"
   ]
  },
  {
   "cell_type": "code",
   "execution_count": null,
   "metadata": {},
   "outputs": [],
   "source": []
  }
 ],
 "metadata": {
  "kernelspec": {
   "display_name": "Python 3",
   "language": "python",
   "name": "python3"
  },
  "language_info": {
   "codemirror_mode": {
    "name": "ipython",
    "version": 3
   },
   "file_extension": ".py",
   "mimetype": "text/x-python",
   "name": "python",
   "nbconvert_exporter": "python",
   "pygments_lexer": "ipython3",
   "version": "3.7.4"
  }
 },
 "nbformat": 4,
 "nbformat_minor": 2
}
